{
 "cells": [
  {
   "cell_type": "markdown",
   "metadata": {},
   "source": [
    "# Exercices de visualisation pour débutant\n",
    "Bienvenue à l'atelier de visualisation de données en python. Ce travail vous permettra de mettre en pratique les concepts clefs appris lors de la présentation sur le sujet. \n",
    "\n",
    "Premièrement, essayer de compiler la cellule ci-dessous pour vérifier que les *package* ont bien été installés. Avec Jupyter notebook il suffit d'appuyer sur Ctrl + Enter ou Shift + Enter en étant dans la cellule pour compiler une cellule.\n",
    "\n",
    "> Vous verez au long de l'atelier que quelques exercices optionnels sont proposés. Ces exercices sont présents pour concilier les différents niveaux de connaissances dans le groupe. Les analyses et conclusions qui en resortent sont tout de même pertinentes, alors pour vous assurer d'avoir le temps de compléter l'atelier, nous vous recommandons de garder ces exercices pour la fin, si vous souhaitez les faire."
   ]
  },
  {
   "cell_type": "code",
   "execution_count": 1,
   "metadata": {},
   "outputs": [],
   "source": [
    "import matplotlib.pyplot as plt\n",
    "import seaborn as sns\n",
    "import numpy as np\n",
    "import pandas as pd\n",
    "from palmerpenguins import load_penguins"
   ]
  },
  {
   "cell_type": "markdown",
   "metadata": {},
   "source": [
    "## Visualisation de données\n",
    "### Base de données : *Penguins*!\n",
    "![Artwork by @allison_horst](../assets/penguins.png)\n",
    "Artwork by @allison_horst\n",
    "\n",
    "La base de données utilisée pour cet exercice est la base de donnée gratuite *Palmer Archipelago's penguin*. Celle-ci regroupe des données multivariées de 3 espèces de manchots répartis sur l'archipel de Palmer en Antarctique et se veut un excellent outil d'introduction à la visualisation.\n",
    "\n",
    "Dans la cellule suivante, commencez par charger la base de données avec `pandas` et afficher sa taille avec `shape`.\n",
    "\n",
    "> Les données sont sauvegardées dans le répertoire sous le nom de `palmerpenguins.csv`\n",
    "\n",
    "> Le code écrit dans une cellule précédente est accessible dans toutes les cellules en bas, donc pas besoin de refaire `import pandas as pd`"
   ]
  },
  {
   "cell_type": "code",
   "execution_count": 2,
   "metadata": {},
   "outputs": [
    {
     "ename": "ParserError",
     "evalue": "Error tokenizing data. C error: Expected 1 fields in line 27, saw 367\n",
     "output_type": "error",
     "traceback": [
      "\u001B[1;31m---------------------------------------------------------------------------\u001B[0m",
      "\u001B[1;31mParserError\u001B[0m                               Traceback (most recent call last)",
      "Input \u001B[1;32mIn [2]\u001B[0m, in \u001B[0;36m<cell line: 1>\u001B[1;34m()\u001B[0m\n\u001B[1;32m----> 1\u001B[0m penguin \u001B[38;5;241m=\u001B[39m \u001B[43mpd\u001B[49m\u001B[38;5;241;43m.\u001B[39;49m\u001B[43mread_csv\u001B[49m\u001B[43m(\u001B[49m\u001B[38;5;124;43m'\u001B[39;49m\u001B[38;5;124;43mhttps://github.com/rem657/AtelierVisualisation/blob/12fa1210bacb413d81f570bf4e3489352ba45b90/src/palmerpenguins.csv\u001B[39;49m\u001B[38;5;124;43m'\u001B[39;49m\u001B[43m)\u001B[49m\n",
      "File \u001B[1;32mc:\\pycharmproject\\ateliervisualisation\\venv\\lib\\site-packages\\pandas\\util\\_decorators.py:211\u001B[0m, in \u001B[0;36mdeprecate_kwarg.<locals>._deprecate_kwarg.<locals>.wrapper\u001B[1;34m(*args, **kwargs)\u001B[0m\n\u001B[0;32m    209\u001B[0m     \u001B[38;5;28;01melse\u001B[39;00m:\n\u001B[0;32m    210\u001B[0m         kwargs[new_arg_name] \u001B[38;5;241m=\u001B[39m new_arg_value\n\u001B[1;32m--> 211\u001B[0m \u001B[38;5;28;01mreturn\u001B[39;00m func(\u001B[38;5;241m*\u001B[39margs, \u001B[38;5;241m*\u001B[39m\u001B[38;5;241m*\u001B[39mkwargs)\n",
      "File \u001B[1;32mc:\\pycharmproject\\ateliervisualisation\\venv\\lib\\site-packages\\pandas\\util\\_decorators.py:331\u001B[0m, in \u001B[0;36mdeprecate_nonkeyword_arguments.<locals>.decorate.<locals>.wrapper\u001B[1;34m(*args, **kwargs)\u001B[0m\n\u001B[0;32m    325\u001B[0m \u001B[38;5;28;01mif\u001B[39;00m \u001B[38;5;28mlen\u001B[39m(args) \u001B[38;5;241m>\u001B[39m num_allow_args:\n\u001B[0;32m    326\u001B[0m     warnings\u001B[38;5;241m.\u001B[39mwarn(\n\u001B[0;32m    327\u001B[0m         msg\u001B[38;5;241m.\u001B[39mformat(arguments\u001B[38;5;241m=\u001B[39m_format_argument_list(allow_args)),\n\u001B[0;32m    328\u001B[0m         \u001B[38;5;167;01mFutureWarning\u001B[39;00m,\n\u001B[0;32m    329\u001B[0m         stacklevel\u001B[38;5;241m=\u001B[39mfind_stack_level(),\n\u001B[0;32m    330\u001B[0m     )\n\u001B[1;32m--> 331\u001B[0m \u001B[38;5;28;01mreturn\u001B[39;00m func(\u001B[38;5;241m*\u001B[39margs, \u001B[38;5;241m*\u001B[39m\u001B[38;5;241m*\u001B[39mkwargs)\n",
      "File \u001B[1;32mc:\\pycharmproject\\ateliervisualisation\\venv\\lib\\site-packages\\pandas\\io\\parsers\\readers.py:950\u001B[0m, in \u001B[0;36mread_csv\u001B[1;34m(filepath_or_buffer, sep, delimiter, header, names, index_col, usecols, squeeze, prefix, mangle_dupe_cols, dtype, engine, converters, true_values, false_values, skipinitialspace, skiprows, skipfooter, nrows, na_values, keep_default_na, na_filter, verbose, skip_blank_lines, parse_dates, infer_datetime_format, keep_date_col, date_parser, dayfirst, cache_dates, iterator, chunksize, compression, thousands, decimal, lineterminator, quotechar, quoting, doublequote, escapechar, comment, encoding, encoding_errors, dialect, error_bad_lines, warn_bad_lines, on_bad_lines, delim_whitespace, low_memory, memory_map, float_precision, storage_options)\u001B[0m\n\u001B[0;32m    935\u001B[0m kwds_defaults \u001B[38;5;241m=\u001B[39m _refine_defaults_read(\n\u001B[0;32m    936\u001B[0m     dialect,\n\u001B[0;32m    937\u001B[0m     delimiter,\n\u001B[1;32m   (...)\u001B[0m\n\u001B[0;32m    946\u001B[0m     defaults\u001B[38;5;241m=\u001B[39m{\u001B[38;5;124m\"\u001B[39m\u001B[38;5;124mdelimiter\u001B[39m\u001B[38;5;124m\"\u001B[39m: \u001B[38;5;124m\"\u001B[39m\u001B[38;5;124m,\u001B[39m\u001B[38;5;124m\"\u001B[39m},\n\u001B[0;32m    947\u001B[0m )\n\u001B[0;32m    948\u001B[0m kwds\u001B[38;5;241m.\u001B[39mupdate(kwds_defaults)\n\u001B[1;32m--> 950\u001B[0m \u001B[38;5;28;01mreturn\u001B[39;00m \u001B[43m_read\u001B[49m\u001B[43m(\u001B[49m\u001B[43mfilepath_or_buffer\u001B[49m\u001B[43m,\u001B[49m\u001B[43m \u001B[49m\u001B[43mkwds\u001B[49m\u001B[43m)\u001B[49m\n",
      "File \u001B[1;32mc:\\pycharmproject\\ateliervisualisation\\venv\\lib\\site-packages\\pandas\\io\\parsers\\readers.py:611\u001B[0m, in \u001B[0;36m_read\u001B[1;34m(filepath_or_buffer, kwds)\u001B[0m\n\u001B[0;32m    608\u001B[0m     \u001B[38;5;28;01mreturn\u001B[39;00m parser\n\u001B[0;32m    610\u001B[0m \u001B[38;5;28;01mwith\u001B[39;00m parser:\n\u001B[1;32m--> 611\u001B[0m     \u001B[38;5;28;01mreturn\u001B[39;00m \u001B[43mparser\u001B[49m\u001B[38;5;241;43m.\u001B[39;49m\u001B[43mread\u001B[49m\u001B[43m(\u001B[49m\u001B[43mnrows\u001B[49m\u001B[43m)\u001B[49m\n",
      "File \u001B[1;32mc:\\pycharmproject\\ateliervisualisation\\venv\\lib\\site-packages\\pandas\\io\\parsers\\readers.py:1778\u001B[0m, in \u001B[0;36mTextFileReader.read\u001B[1;34m(self, nrows)\u001B[0m\n\u001B[0;32m   1771\u001B[0m nrows \u001B[38;5;241m=\u001B[39m validate_integer(\u001B[38;5;124m\"\u001B[39m\u001B[38;5;124mnrows\u001B[39m\u001B[38;5;124m\"\u001B[39m, nrows)\n\u001B[0;32m   1772\u001B[0m \u001B[38;5;28;01mtry\u001B[39;00m:\n\u001B[0;32m   1773\u001B[0m     \u001B[38;5;66;03m# error: \"ParserBase\" has no attribute \"read\"\u001B[39;00m\n\u001B[0;32m   1774\u001B[0m     (\n\u001B[0;32m   1775\u001B[0m         index,\n\u001B[0;32m   1776\u001B[0m         columns,\n\u001B[0;32m   1777\u001B[0m         col_dict,\n\u001B[1;32m-> 1778\u001B[0m     ) \u001B[38;5;241m=\u001B[39m \u001B[38;5;28;43mself\u001B[39;49m\u001B[38;5;241;43m.\u001B[39;49m\u001B[43m_engine\u001B[49m\u001B[38;5;241;43m.\u001B[39;49m\u001B[43mread\u001B[49m\u001B[43m(\u001B[49m\u001B[43m  \u001B[49m\u001B[38;5;66;43;03m# type: ignore[attr-defined]\u001B[39;49;00m\n\u001B[0;32m   1779\u001B[0m \u001B[43m        \u001B[49m\u001B[43mnrows\u001B[49m\n\u001B[0;32m   1780\u001B[0m \u001B[43m    \u001B[49m\u001B[43m)\u001B[49m\n\u001B[0;32m   1781\u001B[0m \u001B[38;5;28;01mexcept\u001B[39;00m \u001B[38;5;167;01mException\u001B[39;00m:\n\u001B[0;32m   1782\u001B[0m     \u001B[38;5;28mself\u001B[39m\u001B[38;5;241m.\u001B[39mclose()\n",
      "File \u001B[1;32mc:\\pycharmproject\\ateliervisualisation\\venv\\lib\\site-packages\\pandas\\io\\parsers\\c_parser_wrapper.py:230\u001B[0m, in \u001B[0;36mCParserWrapper.read\u001B[1;34m(self, nrows)\u001B[0m\n\u001B[0;32m    228\u001B[0m \u001B[38;5;28;01mtry\u001B[39;00m:\n\u001B[0;32m    229\u001B[0m     \u001B[38;5;28;01mif\u001B[39;00m \u001B[38;5;28mself\u001B[39m\u001B[38;5;241m.\u001B[39mlow_memory:\n\u001B[1;32m--> 230\u001B[0m         chunks \u001B[38;5;241m=\u001B[39m \u001B[38;5;28;43mself\u001B[39;49m\u001B[38;5;241;43m.\u001B[39;49m\u001B[43m_reader\u001B[49m\u001B[38;5;241;43m.\u001B[39;49m\u001B[43mread_low_memory\u001B[49m\u001B[43m(\u001B[49m\u001B[43mnrows\u001B[49m\u001B[43m)\u001B[49m\n\u001B[0;32m    231\u001B[0m         \u001B[38;5;66;03m# destructive to chunks\u001B[39;00m\n\u001B[0;32m    232\u001B[0m         data \u001B[38;5;241m=\u001B[39m _concatenate_chunks(chunks)\n",
      "File \u001B[1;32mc:\\pycharmproject\\ateliervisualisation\\venv\\lib\\site-packages\\pandas\\_libs\\parsers.pyx:808\u001B[0m, in \u001B[0;36mpandas._libs.parsers.TextReader.read_low_memory\u001B[1;34m()\u001B[0m\n",
      "File \u001B[1;32mc:\\pycharmproject\\ateliervisualisation\\venv\\lib\\site-packages\\pandas\\_libs\\parsers.pyx:866\u001B[0m, in \u001B[0;36mpandas._libs.parsers.TextReader._read_rows\u001B[1;34m()\u001B[0m\n",
      "File \u001B[1;32mc:\\pycharmproject\\ateliervisualisation\\venv\\lib\\site-packages\\pandas\\_libs\\parsers.pyx:852\u001B[0m, in \u001B[0;36mpandas._libs.parsers.TextReader._tokenize_rows\u001B[1;34m()\u001B[0m\n",
      "File \u001B[1;32mc:\\pycharmproject\\ateliervisualisation\\venv\\lib\\site-packages\\pandas\\_libs\\parsers.pyx:1973\u001B[0m, in \u001B[0;36mpandas._libs.parsers.raise_parser_error\u001B[1;34m()\u001B[0m\n",
      "\u001B[1;31mParserError\u001B[0m: Error tokenizing data. C error: Expected 1 fields in line 27, saw 367\n"
     ]
    }
   ],
   "source": [
    "penguin = pd.read_csv('https://github.com/rem657/AtelierVisualisation/blob/12fa1210bacb413d81f570bf4e3489352ba45b90/src/palmerpenguins.csv')"
   ]
  },
  {
   "cell_type": "markdown",
   "metadata": {},
   "source": [
    "Vous devriez maintenant voir le nombre d'individus ainsi que le nombre de variables dans la base de données. La première étape de la visualisation est de comprendre les données avec lesquels on travaille pour choisir les bonnes figures plus tard. La méthode la plus simple est d'afficher certaines données.\n",
    "\n",
    "\n",
    "Dans la cellule suivante, affichez les cinq premières lignes ainsi que l'entête de la base de données. "
   ]
  },
  {
   "cell_type": "code",
   "execution_count": null,
   "metadata": {},
   "outputs": [],
   "source": []
  },
  {
   "cell_type": "markdown",
   "metadata": {},
   "source": [
    "Vous devriez maintenant remarquer que la base de données possède des variables discrètes (`Clutch Completion`, `Sex`, `Island`, `Region`, `Species`), d'autres variables continues (`Culmen Length`, `Culmen Depth`, `Flipper Length`, *etc.*) et d'autres colonnes qui ne seront pas utiles dans le cadre de cet exercice. Un autre détail que vous devriez être en mesure d'observer est la présence de `NaN`, qui sont des données manquantes. Les données manquantes se retrouvent essentiellement dans toutes les bases de données. Savoir comment les gérer est un art en soi et ne sera pas traité dans l'atelier par souci de temps. Vous pourrez donc ignorer les `NaN`, mais gardez en tête leur présence lors des prochains exercices, puisqu'ils peuvent causer des erreurs. Pour diriger vos choix, vous pouvez faire afficher les données manquantes dans chaque colonnes :"
   ]
  },
  {
   "cell_type": "code",
   "execution_count": null,
   "metadata": {},
   "outputs": [],
   "source": []
  },
  {
   "cell_type": "markdown",
   "metadata": {},
   "source": [
    "### Analyse de variables discrètes : Le diagramme à bande\n",
    "Pour comparer des données catégoriques, l'outil principal est le diagramme à bande. En utilisant `plt.bar` afficher un diagramme à bande pour la variable `Sex`, un autre pour `Island` et un dernier pour `Species`:\n",
    "\n",
    "> Pour tous les exercices, nous nous attendons à ce que les axes soient convenablement nommés avec les unités au besoin\n",
    "\n",
    "> Exercice optionnelle : Si vous êtes à l'aise essayez d'utiliser une boucle!"
   ]
  },
  {
   "cell_type": "code",
   "execution_count": null,
   "metadata": {},
   "outputs": [],
   "source": []
  },
  {
   "cell_type": "markdown",
   "metadata": {},
   "source": [
    "Vous devriez maintenant être en mesure d'observer qu'au sein d'une même variables, les données ne sont pas distribuées également entre les catégories. \n",
    "\n",
    "Toutefois, ces figures ne nous informent pas sur la distribution des différentes espèces à l'intérieur de chaque île, ce qui pourrait être intéressant à visualiser."
   ]
  },
  {
   "cell_type": "markdown",
   "metadata": {},
   "source": [
    "#### Exercice optionnel\n",
    "Produisez une figure permettant de voir la distribution de chaque espèce à l'intérieur des différentes îles."
   ]
  },
  {
   "cell_type": "code",
   "execution_count": null,
   "metadata": {},
   "outputs": [],
   "source": []
  },
  {
   "cell_type": "markdown",
   "metadata": {},
   "source": [
    "### Analyse de variables continues : Le nuage de point\n",
    "De l'analyse de l'association entre deux variables continues ou la visualisation de positions cartésiennes, le nuage de points est un outil essentiel à tous les domaines. Plusieurs mesures de variables continues sont fournies dans les données. Pouvez vous en choisir 2 et faire afficher une en fonction de l'autre dans la cellule suivante ?\n",
    "\n",
    "> N'oublier pas de traiter les NaNs\n",
    "\n",
    "> Essayer de faire des fonctions avec votre code\n",
    "\n",
    "> Défi supplémentaire (optionnel): Utiliser une boucle pour faire afficher toutes les combinaisons possibles !"
   ]
  },
  {
   "cell_type": "code",
   "execution_count": null,
   "metadata": {},
   "outputs": [],
   "source": []
  },
  {
   "cell_type": "markdown",
   "metadata": {},
   "source": [
    "Dépendamment de quelles associations vous avez fait afficher, vous avez peut être remarqué la présence de regroupement de données.\n",
    "\n",
    "#### Les couleurs, une dimension supplémentaire:\n",
    "En visualisation, que se soit pour un article ou un devoir en *latex*, nous sommes souvent limités à deux dimensions géométriques pour afficher les données. Pour transmettre plus d'informations, on utilise alors souvent la couleur des points comme troisième dimension.\n",
    "\n",
    "Pour le choix de couleurs, une librairie très pertinente en python est [seaborn](https://seaborn.pydata.org/) et plus précisément leur outil de choix de [palettes de couleur](https://seaborn.pydata.org/tutorial/color_palettes.html). Les couleurs sont données sous forme de tuple <span style=\"color:red\">R</span><span style=\"color:green\">G</span><span style=\"color:blue\">B</span> et donc compatible avec toute librairie de visualisation de données (incluant pyplot). Son utilisation n'est pas obligatoire, mais est fortement recommandée dans la suite des exercices et dans vos travaux futurs. Les liens hypertext vous conduirons vers les ressources nécessaires pour votre apprentissage.\n",
    "\n",
    "Pour le prochain exercice, refaire l'exercice précédent en encodant une troisième variable dans les couleurs des points du nuage. Essayer d'incorporer les palettes de seaborn (importé sous le nom `sns`)! Nous vous recommandons de commencer par colorer les points en fonction de leur espèce ou île. Par la suite, essayer différentes variables et différentes couleurs/palettes !\n",
    "\n",
    "> Si la troisième variable est continue, la palette de couleur devrait être continue et une échelle de couleur devrait être visible pour savoir quelles couleurs représentent quoi."
   ]
  },
  {
   "cell_type": "code",
   "execution_count": null,
   "metadata": {},
   "outputs": [],
   "source": []
  },
  {
   "cell_type": "markdown",
   "metadata": {},
   "source": [
    "En ajoutant seulement quelques couleurs à vos précédentes figures, vous devriez déjà être en mesure de tirer des conclusions intéressantes sur les différentes populations de manchots de l'archipel ! Là est le pouvoir de la visualisation ! Si en un coup d'oeil, un lecteur non-informé est capable de voir quelles espèces se distinguent du reste (et comment) ou sur quels attributs les femelles sont différente des mâles, vous avez bien fait votre travail !\n",
    "\n",
    "#### Question Bonus\n",
    "Avec le nuage de point il existe une autre méthode que la couleur permettant d'ajouter de l'information. Êtes-vous capable de la nommer ? Si oui, reprennez un de vos exemples précédents et ajouter cette nouvelle dimension."
   ]
  },
  {
   "cell_type": "code",
   "execution_count": null,
   "metadata": {},
   "outputs": [],
   "source": []
  },
  {
   "cell_type": "markdown",
   "metadata": {},
   "source": [
    "### Analyse en une dimension : l'histogramme\n",
    "L'histogramme est une figure souvent utilisée pour visualiser les distributions de variables continues. En segmentant l'espace en *bin* et en comptant la prévalence dans chacun, on peut estimer la distribution. La clef est de choisir la bonne taille de *bin*. En utilisant la fonction de `matplotlib`, prennez une variable continue et affichez sa distribution."
   ]
  },
  {
   "cell_type": "code",
   "execution_count": null,
   "metadata": {},
   "outputs": [],
   "source": []
  },
  {
   "cell_type": "markdown",
   "metadata": {},
   "source": [
    "Essayez maintenant de changer la taille des *bins* pour voir ce qui se produit et normalisez les valeurs de l'axe y. N'hésitez pas a utiliser des valeurs ridicules pour bien voir ce qui se produit aux extrêmes."
   ]
  },
  {
   "cell_type": "code",
   "execution_count": null,
   "metadata": {},
   "outputs": [],
   "source": []
  },
  {
   "cell_type": "markdown",
   "metadata": {},
   "source": [
    "Qu'arrive-t-il lorsque vous changez les *bins* ? Est-ce qu'un plus gros nombre est toujours mieux ? Expliquez pourquoi. De plus, pour certaines variables vous devriez observer la présence de modes (plus d'un pics) dans la distribution. En vous basant sur les conclusions tirées des figures précédentes, êtes-vous capable de déduire ce qui peut expliquer ce phénomène ? \n",
    "### Exercice optionnel\n",
    "Il est possible de combiner les histogrammes avec une figure a points reliés. Calculez la moyenne et l'écart-type de la variable choisi. Tracer la distribution normale (gaussienne) correspondant a cette moyenne et écart-type et superposer cette figure à l'histogramme de cette variable. Est-ce que les deux figures concordent ? \n",
    "> Indice : une fonction gausienne est de forme : \n",
    "\\begin{align} \n",
    "y = \\frac{1}{\\sigma \\sqrt{2 \\pi}} \\exp \\left(-\\frac{(x-\\mu)^{2}}{2 \\sigma^{2}}\\right)\n",
    "\\end{align}\n",
    "Où $\\mu$ est la moyenne et $\\sigma$ est l'écart type"
   ]
  },
  {
   "cell_type": "code",
   "execution_count": null,
   "metadata": {},
   "outputs": [],
   "source": []
  },
  {
   "cell_type": "markdown",
   "metadata": {},
   "source": [
    "# Conclusion\n",
    "Merci d'avoir participé à cet atelier, j'espère qu'il vous a permis de solidifier les concepts appris aujourd'hui. Pour vérifier votre code, vous pouvez toujours consulter le corrigé qui devrait se trouver dans le même dossier que le présent fichier. S'il y a un message que nous aimerions vous avoir transmis, c'est l'importance de la visualisation et comment des figures bien réalisées peuvent instantanément transmettre un message.\n",
    "\n",
    "Bien que `matplotlib` soit une excellente librairie de visualisation il est important de savoir qu'il existe d'autres librairies python permettant d'accomplir des figures plus complexe tout en simplifiant le code nécessaire. Les principales sont `seaborn`, ❤️ `plotly` ❤️, `Bokeh`, `altair`, `folium` et même directement avec les DataFrames de `pandas`. Chacune ont leurs avantages et inconvénients, alors si le sujet vous intéresse, n'hésitez pas à faire des recherches pour trouver ce qui vous convient le plus ! "
   ]
  },
  {
   "cell_type": "code",
   "execution_count": null,
   "metadata": {},
   "outputs": [],
   "source": []
  }
 ],
 "metadata": {
  "kernelspec": {
   "display_name": "Python 3 (ipykernel)",
   "language": "python",
   "name": "python3"
  },
  "language_info": {
   "codemirror_mode": {
    "name": "ipython",
    "version": 3
   },
   "file_extension": ".py",
   "mimetype": "text/x-python",
   "name": "python",
   "nbconvert_exporter": "python",
   "pygments_lexer": "ipython3",
   "version": "3.9.10"
  }
 },
 "nbformat": 4,
 "nbformat_minor": 1
}
